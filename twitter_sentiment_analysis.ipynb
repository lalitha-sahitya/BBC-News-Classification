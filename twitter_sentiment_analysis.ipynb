{
  "nbformat": 4,
  "nbformat_minor": 0,
  "metadata": {
    "colab": {
      "provenance": []
    },
    "kernelspec": {
      "name": "python3",
      "display_name": "Python 3"
    },
    "language_info": {
      "name": "python"
    },
        "id": "c2SbwAkHkEp-",
        "outputId": "b0a430c8-db47-46f7-bb5a-c21828974a02"
      },
      "execution_count": 9,
      "outputs": [
        {
          "output_type": "stream",
          "name": "stderr",
          "text": [
            "/usr/local/lib/python3.11/dist-packages/huggingface_hub/utils/_auth.py:94: UserWarning: \n",
            "The secret `HF_TOKEN` does not exist in your Colab secrets.\n",
            "To authenticate with the Hugging Face Hub, create a token in your settings tab (https://huggingface.co/settings/tokens), set it as secret in your Google Colab and restart your session.\n",
            "You will be able to reuse this secret in all of your notebooks.\n",
            "Please note that authentication is recommended but still optional to access public models or datasets.\n",
            "  warnings.warn(\n"
          ]
        },
        {
          "output_type": "display_data",
          "data": {
            "text/plain": [
              "config.json:   0%|          | 0.00/747 [00:00<?, ?B/s]"
            ],
            "application/vnd.jupyter.widget-view+json": {
              "version_major": 2,
              "version_minor": 0,
              "model_id": "44d10dbf5c4c42b7ac892218b508b536"
            }
          },
          "metadata": {}
        },
        {
          "output_type": "display_data",
          "data": {
            "text/plain": [
              "pytorch_model.bin:   0%|          | 0.00/499M [00:00<?, ?B/s]"
            ],
            "application/vnd.jupyter.widget-view+json": {
              "version_major": 2,
              "version_minor": 0,
              "model_id": "6b9b630c2f1144b094f41ec1cc235fe3"
            }
          },
          "metadata": {}
        },
        {
          "output_type": "display_data",
          "data": {
            "text/plain": [
              "model.safetensors:   0%|          | 0.00/499M [00:00<?, ?B/s]"
            ],
            "application/vnd.jupyter.widget-view+json": {
              "version_major": 2,
              "version_minor": 0,
              "model_id": "5c1854b5ba4d4e72bee6831fb185f5a0"
            }
          },
          "metadata": {}
        },
        {
          "output_type": "display_data",
          "data": {
            "text/plain": [
              "vocab.json:   0%|          | 0.00/899k [00:00<?, ?B/s]"
            ],
            "application/vnd.jupyter.widget-view+json": {
              "version_major": 2,
              "version_minor": 0,
              "model_id": "24cfe8fae2f34cf48b0099b4432ff8ea"
            }
          },
          "metadata": {}
        },
        {
          "output_type": "display_data",
          "data": {
            "text/plain": [
              "merges.txt:   0%|          | 0.00/456k [00:00<?, ?B/s]"
            ],
            "application/vnd.jupyter.widget-view+json": {
              "version_major": 2,
              "version_minor": 0,
              "model_id": "f63edb02a85142619a466865e1b55b34"
            }
          },
          "metadata": {}
        },
        {
          "output_type": "display_data",
          "data": {
            "text/plain": [
              "special_tokens_map.json:   0%|          | 0.00/150 [00:00<?, ?B/s]"
            ],
            "application/vnd.jupyter.widget-view+json": {
              "version_major": 2,
              "version_minor": 0,
              "model_id": "1e8f279d6e6441db838f3fd6dd7eff19"
            }
          },
          "metadata": {}
        }
      ]
    },
    {
      "cell_type": "code",
      "source": [
        "query = \"AI innovation -is:retweet lang:en\"\n",
        "tweets = client.search_recent_tweets(query=query, max_results=10)"
      ],
      "metadata": {
        "id": "VO1PS3_4lgJy"
      },
      "execution_count": 10,
      "outputs": []
    },
    {
      "cell_type": "code",
      "source": [
        "labels=['Negative', 'Neutral','Positive']"
      ],
      "metadata": {
        "id": "EyFGEWKjkH7g"
      },
      "execution_count": 11,
      "outputs": []
    },
    {
      "cell_type": "code",
      "source": [
        "for tweet in tweets.data:\n",
        "    text = preprocess(tweet.text)\n",
        "    encoded = tokenizer(text, return_tensors='pt')\n",
        "    output = model(**encoded)\n",
        "    scores = softmax(output.logits.detach().numpy()[0])\n",
        "    sentiment = labels[scores.argmax()]\n",
        "    print(f\"Tweet: {tweet.text}\")\n",
        "    print(f\"Sentiment: {sentiment}\")\n",
        "    print('-'*50)\n"
      ],
      "metadata": {
        "colab": {
          "base_uri": "https://localhost:8080/"
        },
        "id": "3xKClF_TkT1_",
        "outputId": "15a2d722-f180-4b5a-f6ab-4f57b06e3b19"
      },
      "execution_count": 13,
      "outputs": [
        {
          "output_type": "stream",
          "name": "stdout",
          "text": [
            "Tweet: 🔥 “Innovation has no borders.”\n",
            "https://t.co/tzhLHw6sZ7 brings a world of possibilities directly to you. 🌍🚀#AIforALL\n",
            "@SaharaLabsAI\n",
            "Sentiment: Positive\n",
            "--------------------------------------------------\n",
            "Tweet: @Web3_CryptoGen @Mira_Network @klok_app Bullish on \n",
            "@Mira_Network\n",
            "! \n",
            "@klok_app\n",
            "’s AI innovation is a game changer. Huge potential for growth, get in early and earn those Mira Points! 🚀\n",
            "Sentiment: Positive\n",
            "--------------------------------------------------\n",
            "Tweet: 🎓 Admissions Open – 2025!\n",
            "🚀 Step into your future with M.S. Engineering College (MSEC), Bengaluru – where innovation meets excellence!\n",
            "\n",
            "#MSEC #EngineeringAdmissions #BangaloreColleges #CET2025 #AdmissionsOpen #EngineeringCollege #StudyInBangalore #FutureEngineers #AI #CSE https://t.co/weEMagoK2X\n",
            "Sentiment: Positive\n",
            "--------------------------------------------------\n",
            "Tweet: Unlock the full potential of Microsoft 365 Personal and see how Dell, partnered with Microsoft 365 with AI features, can help you experience the future of digital innovation! #delltech\n",
            "Sentiment: Positive\n",
            "--------------------------------------------------\n",
            "Tweet: @temsaturkiye \n",
            "Greatings from the Creator\n",
            "Listen to this amazing song: TEMSA - Geschmiedet im Feuer - Symphonische Ode an die Innovation https://t.co/D5deOtaEFb\n",
            "Sentiment: Positive\n",
            "--------------------------------------------------\n",
            "Tweet: #Snowflake and #AI, emphasizing how integrated AI and machine learning capabilities can unlock advanced analytics and predictive insights. The visual of a futuristic AI robot immediately draws attention and reinforces the message of technological innovation.\n",
            "\n",
            "👇👇👇 https://t.co/9MNXxki7YY\n",
            "Sentiment: Positive\n",
            "--------------------------------------------------\n",
            "Tweet: 6. India’s women-led startups are gaining global traction:\n",
            "\n",
            "- Unicorns like Nykaa\n",
            "- Cross-border partnerships\n",
            "- Use of tech: AI, IoT, blockchain\n",
            "- Global awards &amp; investor interest\n",
            "\n",
            "India = global hub for inclusive innovation!\n",
            "\n",
            "#GlobalStartups #WomenInTech https://t.co/W6AV3ccvVb\n",
            "Sentiment: Positive\n",
            "--------------------------------------------------\n",
            "Tweet: Sahara AI's cross - chain interoperability enables seamless data flow between different blockchain networks. Build unified AI solutions that leverage diverse blockchain ecosystems. Break down barriers and drive innovation. @SaharaLabsAI #AIforALL\n",
            "Sentiment: Positive\n",
            "--------------------------------------------------\n",
            "Tweet: UK Government Deploys “Humphrey AI” to Enhance Public Services, Emphasizing Local Innovation https://t.co/SFoa8X9RLs #News #Opinions @gigadgets_\n",
            "Sentiment: Neutral\n",
            "--------------------------------------------------\n",
            "Tweet: AI art continues to inspire creativity and innovation. https://t.co/XNLYYXtI8P\n",
            "Sentiment: Positive\n",
            "--------------------------------------------------\n"
          ]
        }
      ]
    }
  ]
}