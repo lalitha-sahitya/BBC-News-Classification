{
  "nbformat": 4,
  "nbformat_minor": 0,
  "metadata": {
    "colab": {
      "provenance": []
    },
    "kernelspec": {
      "name": "python3",
      "display_name": "Python 3"
    },
    "language_info": {
      "name": "python"
    }
  },
  "cells": [
    {
      "cell_type": "code",
      "execution_count": 1,
      "metadata": {
        "colab": {
          "base_uri": "https://localhost:8080/"
        },
        "id": "LzKRo6S0iw2C",
        "outputId": "d8aefee4-c35e-40cb-9868-1bff0e0aedcc"
      },
      "outputs": [
        {
          "output_type": "stream",
          "name": "stdout",
          "text": [
            "Requirement already satisfied: transformers in /usr/local/lib/python3.11/dist-packages (4.52.4)\n",
            "Requirement already satisfied: filelock in /usr/local/lib/python3.11/dist-packages (from transformers) (3.18.0)\n",
            "Requirement already satisfied: huggingface-hub<1.0,>=0.30.0 in /usr/local/lib/python3.11/dist-packages (from transformers) (0.32.4)\n",
            "Requirement already satisfied: numpy>=1.17 in /usr/local/lib/python3.11/dist-packages (from transformers) (2.0.2)\n",
            "Requirement already satisfied: packaging>=20.0 in /usr/local/lib/python3.11/dist-packages (from transformers) (24.2)\n",
            "Requirement already satisfied: pyyaml>=5.1 in /usr/local/lib/python3.11/dist-packages (from transformers) (6.0.2)\n",
            "Requirement already satisfied: regex!=2019.12.17 in /usr/local/lib/python3.11/dist-packages (from transformers) (2024.11.6)\n",
            "Requirement already satisfied: requests in /usr/local/lib/python3.11/dist-packages (from transformers) (2.32.3)\n",
            "Requirement already satisfied: tokenizers<0.22,>=0.21 in /usr/local/lib/python3.11/dist-packages (from transformers) (0.21.1)\n",
            "Requirement already satisfied: safetensors>=0.4.3 in /usr/local/lib/python3.11/dist-packages (from transformers) (0.5.3)\n",
            "Requirement already satisfied: tqdm>=4.27 in /usr/local/lib/python3.11/dist-packages (from transformers) (4.67.1)\n",
            "Requirement already satisfied: fsspec>=2023.5.0 in /usr/local/lib/python3.11/dist-packages (from huggingface-hub<1.0,>=0.30.0->transformers) (2025.3.2)\n",
            "Requirement already satisfied: typing-extensions>=3.7.4.3 in /usr/local/lib/python3.11/dist-packages (from huggingface-hub<1.0,>=0.30.0->transformers) (4.14.0)\n",
            "Requirement already satisfied: hf-xet<2.0.0,>=1.1.2 in /usr/local/lib/python3.11/dist-packages (from huggingface-hub<1.0,>=0.30.0->transformers) (1.1.2)\n",
            "Requirement already satisfied: charset-normalizer<4,>=2 in /usr/local/lib/python3.11/dist-packages (from requests->transformers) (3.4.2)\n",
            "Requirement already satisfied: idna<4,>=2.5 in /usr/local/lib/python3.11/dist-packages (from requests->transformers) (3.10)\n",
            "Requirement already satisfied: urllib3<3,>=1.21.1 in /usr/local/lib/python3.11/dist-packages (from requests->transformers) (2.4.0)\n",
            "Requirement already satisfied: certifi>=2017.4.17 in /usr/local/lib/python3.11/dist-packages (from requests->transformers) (2025.4.26)\n"
          ]
        }
      ],
      "source": [
        "!pip install transformers"
      ]
    },
    {
      "cell_type": "code",
      "source": [
        "from transformers import logging\n",
        "logging.set_verbosity_error()"
      ],
      "metadata": {
        "id": "zpeC-ORv4-YH"
      },
      "execution_count": 14,
      "outputs": []
    },
    {
      "cell_type": "code",
      "source": [
        "!pip install scipy"
      ],
      "metadata": {
        "colab": {
          "base_uri": "https://localhost:8080/"
        },
        "id": "Z4HION9zi2qu",
        "outputId": "9a913b07-ece9-412b-d60f-4aca8518a77a"
      },
      "execution_count": 2,
      "outputs": [
        {
          "output_type": "stream",
          "name": "stdout",
          "text": [
            "Requirement already satisfied: scipy in /usr/local/lib/python3.11/dist-packages (1.15.3)\n",
            "Requirement already satisfied: numpy<2.5,>=1.23.5 in /usr/local/lib/python3.11/dist-packages (from scipy) (2.0.2)\n"
          ]
        }
      ]
    },
    {
      "cell_type": "code",
      "source": [
        "from transformers import AutoTokenizer, AutoModelForSequenceClassification\n",
        "from scipy.special import softmax"
      ],
      "metadata": {
        "id": "j97v-HbZj3vB"
      },
      "execution_count": 3,
      "outputs": []
    },
    {
      "cell_type": "code",
      "source": [
        "import tweepy"
      ],
      "metadata": {
        "id": "XmAQAYVxk7hn"
      },
      "execution_count": 4,
      "outputs": []
    },
    {
      "cell_type": "code",
      "source": [
        "!pip install python-dotenv"
      ],
      "metadata": {
        "colab": {
          "base_uri": "https://localhost:8080/"
        },
        "id": "k5YvZrtLnCmD",
        "outputId": "f9e8ab2f-78cc-453c-e7b4-1d0320d9af6e"
      },
      "execution_count": 5,
      "outputs": [
        {
          "output_type": "stream",
          "name": "stdout",
          "text": [
            "Collecting python-dotenv\n",
            "  Downloading python_dotenv-1.1.0-py3-none-any.whl.metadata (24 kB)\n",
            "Downloading python_dotenv-1.1.0-py3-none-any.whl (20 kB)\n",
            "Installing collected packages: python-dotenv\n",
            "Successfully installed python-dotenv-1.1.0\n"
          ]
        }
      ]
    },
    {
      "cell_type": "code",
      "source": [
        "from dotenv import load_dotenv\n",
        "import os\n",
        "env_path = '/content/twitter.env.txt'\n",
        "load_dotenv(env_path)"
      ],
      "metadata": {
        "colab": {
          "base_uri": "https://localhost:8080/"
        },
        "id": "LUAgjP7YnGBy",
        "outputId": "3422d54e-ed90-47b8-ae8a-9c94fbe59d9d"
      },
      "execution_count": 6,
      "outputs": [
        {
          "output_type": "execute_result",
          "data": {
            "text/plain": [
              "True"
            ]
          },
          "metadata": {},
          "execution_count": 6
        }
      ]
    },
    {
      "cell_type": "code",
      "source": [
        "client = tweepy.Client(bearer_token=os.getenv('BEARER_TOKEN'))"
      ],
      "metadata": {
        "id": "bQDhY5SIlAwI"
      },
      "execution_count": 7,
      "outputs": []
    },
    {
      "cell_type": "code",
      "source": [
        "def preprocess(tweet):\n",
        "    tweet_words = []\n",
        "    for i in tweet.split(' '):\n",
        "        if i.startswith('@') and len(i) > 1:\n",
        "            i = '@user'\n",
        "        elif i.startswith('#'):\n",
        "            i = i[1:]\n",
        "        elif i.startswith('http'):\n",
        "          i='http'\n",
        "        tweet_words.append(i)\n",
        "    return ' '.join(tweet_words)"
      ],
      "metadata": {
        "id": "dddjo_fgkAQs"
      },
      "execution_count": 8,
      "outputs": []
    },
    {
      "cell_type": "code",
      "source": [
        "roberta='cardiffnlp/twitter-roberta-base-sentiment'\n",
        "model=AutoModelForSequenceClassification.from_pretrained(roberta)\n",
        "tokenizer=AutoTokenizer.from_pretrained(roberta)"
      ],
      "metadata": {
        "colab": {
          "base_uri": "https://localhost:8080/",
          "height": 333,
          "referenced_widgets": [
            "44d10dbf5c4c42b7ac892218b508b536",
            "0816d4fa7182489a85a8d0a70d95837d",
            "e9ce178e17bf42778b22dd49e8d6ea9c",
            "aedfa884b0e048d8babddd79f307951b",
            "5346758d909b448fb41d8cfb345740df",
            "efb839c0c76044bea58dcd9ebef2997c",
            "9e302caa31f747709827407279a9b123",
            "9f0af02242cf4d3081c20f06a5e0749d",
            "7890900dc0874e088f49898e79d05e16",
            "5cde1aae46c548589278b543d85e4652",
            "13752755866d443490d7d2ee0f0f0c31",
            "6b9b630c2f1144b094f41ec1cc235fe3",
            "30a9ff60b3e44255b89dc62f303da574",
            "82dcdc8a9832470eaa90339b90f37c24",
            "d3dd4a911cb040408c42dc64a8130650",
            "a0ec9902e11a4e159c9fc1d2c96d14c4",
            "ec8f801572f34b91b5745d8e9fdae27f",
            "300d897ea0d24ab395a979f54a4d4be7",
            "3cc721f1f73b41638b44810f236da0e1",
            "a572215e8826476aa4a5c42fe3e975fe",
            "ff43c598413f499baae7ced8926d3e0b",
            "187639762f144b3396e7620b6bc18363",
            "5c1854b5ba4d4e72bee6831fb185f5a0",
            "0c9ec3c14c444617adca149eff1b0e85",
            "e78aca9457f24765b1a8b6f998e1e549",
            "47681c3c3f814c9bb50919280cd613cb",
            "d8f0c236ff1a4ada8c202d9212d9ce19",
            "35bc4504e2ac4f2a98760746fd579de3",
            "19a363b18a814c7391fb5f4cec6242ce",
            "d3211167de00411ba0a3c4e8c0efc308",
            "42f1a8a00c0145afa2eae97866ad0287",
            "733b9089cb2144bca078661cb3b8df7f",
            "9208acd9537e40fa88633b99186fcbcd",
            "24cfe8fae2f34cf48b0099b4432ff8ea",
            "8b9dbc5e72b44fbba8c26f45cb5817fd",
            "7fc3a6b1d1ff4052b54a029502463557",
            "2d371e20b05a40cea03a6036a94b5dcd",
            "7b07cba2e78d45a5bccd8a8264fb2eb3",
            "0dba67db60044856b2c58ed84eeca552",
            "d925239b45614502aa3ad284deb8e822",
            "555533fc67534215afde2a6eac6dfac7",
            "19eaf0efbce44de8aedb94358e462304",
            "72bfe76a4dbe4a1eb173cb47206e670b",
            "bf886600d64a430992a00bb8c83e9c1d",
            "f63edb02a85142619a466865e1b55b34",
            "21eb0ffb6809410787e2f3cdda47448a",
            "8af12ea8046042ce87be118d1b055ffc",
            "eb579bf080c54461a955e566ee8c08b8",
            "3e1a2a5730bd4c48ae29c9c88022f760",
            "425df8cf08284abd924b8047b975c4ae",
            "b10d5cf543794c77b40fc19325ec29bc",
            "ef10ea8611054e6b9e47be67d0fa2348",
            "10c86664076043bb990323571c270f7b",
            "ae1a442002e84c4fa4d9dece1311a17f",
            "b7f6db5dabfc40258e31a7acd8abd21d",
            "1e8f279d6e6441db838f3fd6dd7eff19",
            "2d7330a1f0d543c2899a486df96de627",
            "76fbabf3ed5446e1abb11d1b8e5a338a",
            "7187158c3ca540798f280715b95fe372",
            "38ebe59cf0be4c78a39985bd3296cdfa",
            "d1c62aa8d3054dffa104e252eb5f5a48",
            "46b5582e890c41d498ba6ad5c6cd1077",
            "5937026d55a64a099af856a936736b29",
            "3725ed4baf9a4c28b1d622b4c655fca7",
            "1cd97121e9514088a562102e975964b7",
            "2b44b09dbc8a45ddbbbe18ed288b2460"
          ]
        },
        "id": "c2SbwAkHkEp-",
        "outputId": "b0a430c8-db47-46f7-bb5a-c21828974a02"
      },
      "execution_count": 9,
      "outputs": [
        {
          "output_type": "stream",
          "name": "stderr",
          "text": [
            "/usr/local/lib/python3.11/dist-packages/huggingface_hub/utils/_auth.py:94: UserWarning: \n",
            "The secret `HF_TOKEN` does not exist in your Colab secrets.\n",
            "To authenticate with the Hugging Face Hub, create a token in your settings tab (https://huggingface.co/settings/tokens), set it as secret in your Google Colab and restart your session.\n",
            "You will be able to reuse this secret in all of your notebooks.\n",
            "Please note that authentication is recommended but still optional to access public models or datasets.\n",
            "  warnings.warn(\n"
          ]
        },
        {
          "output_type": "display_data",
          "data": {
            "text/plain": [
              "config.json:   0%|          | 0.00/747 [00:00<?, ?B/s]"
            ],
            "application/vnd.jupyter.widget-view+json": {
              "version_major": 2,
              "version_minor": 0,
              "model_id": "44d10dbf5c4c42b7ac892218b508b536"
            }
          },
          "metadata": {}
        },
        {
          "output_type": "display_data",
          "data": {
            "text/plain": [
              "pytorch_model.bin:   0%|          | 0.00/499M [00:00<?, ?B/s]"
            ],
            "application/vnd.jupyter.widget-view+json": {
              "version_major": 2,
              "version_minor": 0,
              "model_id": "6b9b630c2f1144b094f41ec1cc235fe3"
            }
          },
          "metadata": {}
        },
        {
          "output_type": "display_data",
          "data": {
            "text/plain": [
              "model.safetensors:   0%|          | 0.00/499M [00:00<?, ?B/s]"
            ],
            "application/vnd.jupyter.widget-view+json": {
              "version_major": 2,
              "version_minor": 0,
              "model_id": "5c1854b5ba4d4e72bee6831fb185f5a0"
            }
          },
          "metadata": {}
        },
        {
          "output_type": "display_data",
          "data": {
            "text/plain": [
              "vocab.json:   0%|          | 0.00/899k [00:00<?, ?B/s]"
            ],
            "application/vnd.jupyter.widget-view+json": {
              "version_major": 2,
              "version_minor": 0,
              "model_id": "24cfe8fae2f34cf48b0099b4432ff8ea"
            }
          },
          "metadata": {}
        },
        {
          "output_type": "display_data",
          "data": {
            "text/plain": [
              "merges.txt:   0%|          | 0.00/456k [00:00<?, ?B/s]"
            ],
            "application/vnd.jupyter.widget-view+json": {
              "version_major": 2,
              "version_minor": 0,
              "model_id": "f63edb02a85142619a466865e1b55b34"
            }
          },
          "metadata": {}
        },
        {
          "output_type": "display_data",
          "data": {
            "text/plain": [
              "special_tokens_map.json:   0%|          | 0.00/150 [00:00<?, ?B/s]"
            ],
            "application/vnd.jupyter.widget-view+json": {
              "version_major": 2,
              "version_minor": 0,
              "model_id": "1e8f279d6e6441db838f3fd6dd7eff19"
            }
          },
          "metadata": {}
        }
      ]
    },
    {
      "cell_type": "code",
      "source": [
        "query = \"AI innovation -is:retweet lang:en\"\n",
        "tweets = client.search_recent_tweets(query=query, max_results=10)"
      ],
      "metadata": {
        "id": "VO1PS3_4lgJy"
      },
      "execution_count": 10,
      "outputs": []
    },
    {
      "cell_type": "code",
      "source": [
        "labels=['Negative', 'Neutral','Positive']"
      ],
      "metadata": {
        "id": "EyFGEWKjkH7g"
      },
      "execution_count": 11,
      "outputs": []
    },
    {
      "cell_type": "code",
      "source": [
        "for tweet in tweets.data:\n",
        "    text = preprocess(tweet.text)\n",
        "    encoded = tokenizer(text, return_tensors='pt')\n",
        "    output = model(**encoded)\n",
        "    scores = softmax(output.logits.detach().numpy()[0])\n",
        "    sentiment = labels[scores.argmax()]\n",
        "    print(f\"Tweet: {tweet.text}\")\n",
        "    print(f\"Sentiment: {sentiment}\")\n",
        "    print('-'*50)\n"
      ],
      "metadata": {
        "colab": {
          "base_uri": "https://localhost:8080/"
        },
        "id": "3xKClF_TkT1_",
        "outputId": "15a2d722-f180-4b5a-f6ab-4f57b06e3b19"
      },
      "execution_count": 13,
      "outputs": [
        {
          "output_type": "stream",
          "name": "stdout",
          "text": [
            "Tweet: \ud83d\udd25 \u201cInnovation has no borders.\u201d\n",
            "https://t.co/tzhLHw6sZ7 brings a world of possibilities directly to you. \ud83c\udf0d\ud83d\ude80#AIforALL\n",
            "@SaharaLabsAI\n",
            "Sentiment: Positive\n",
            "--------------------------------------------------\n",
            "Tweet: @Web3_CryptoGen @Mira_Network @klok_app Bullish on \n",
            "@Mira_Network\n",
            "! \n",
            "@klok_app\n",
            "\u2019s AI innovation is a game changer. Huge potential for growth, get in early and earn those Mira Points! \ud83d\ude80\n",
            "Sentiment: Positive\n",
            "--------------------------------------------------\n",
            "Tweet: \ud83c\udf93 Admissions Open \u2013 2025!\n",
            "\ud83d\ude80 Step into your future with M.S. Engineering College (MSEC), Bengaluru \u2013 where innovation meets excellence!\n",
            "\n",
            "#MSEC #EngineeringAdmissions #BangaloreColleges #CET2025 #AdmissionsOpen #EngineeringCollege #StudyInBangalore #FutureEngineers #AI #CSE https://t.co/weEMagoK2X\n",
            "Sentiment: Positive\n",
            "--------------------------------------------------\n",
            "Tweet: Unlock the full potential of Microsoft 365 Personal and see how Dell, partnered with Microsoft 365 with AI features, can help you experience the future of digital innovation! #delltech\n",
            "Sentiment: Positive\n",
            "--------------------------------------------------\n",
            "Tweet: @temsaturkiye \n",
            "Greatings from the Creator\n",
            "Listen to this amazing song: TEMSA - Geschmiedet im Feuer - Symphonische Ode an die Innovation https://t.co/D5deOtaEFb\n",
            "Sentiment: Positive\n",
            "--------------------------------------------------\n",
            "Tweet: #Snowflake and #AI, emphasizing how integrated AI and machine learning capabilities can unlock advanced analytics and predictive insights. The visual of a futuristic AI robot immediately draws attention and reinforces the message of technological innovation.\n",
            "\n",
            "\ud83d\udc47\ud83d\udc47\ud83d\udc47 https://t.co/9MNXxki7YY\n",
            "Sentiment: Positive\n",
            "--------------------------------------------------\n",
            "Tweet: 6. India\u2019s women-led startups are gaining global traction:\n",
            "\n",
            "- Unicorns like Nykaa\n",
            "- Cross-border partnerships\n",
            "- Use of tech: AI, IoT, blockchain\n",
            "- Global awards &amp; investor interest\n",
            "\n",
            "India = global hub for inclusive innovation!\n",
            "\n",
            "#GlobalStartups #WomenInTech https://t.co/W6AV3ccvVb\n",
            "Sentiment: Positive\n",
            "--------------------------------------------------\n",
            "Tweet: Sahara AI's cross - chain interoperability enables seamless data flow between different blockchain networks. Build unified AI solutions that leverage diverse blockchain ecosystems. Break down barriers and drive innovation. @SaharaLabsAI #AIforALL\n",
            "Sentiment: Positive\n",
            "--------------------------------------------------\n",
            "Tweet: UK Government Deploys \u201cHumphrey AI\u201d to Enhance Public Services, Emphasizing Local Innovation https://t.co/SFoa8X9RLs #News #Opinions @gigadgets_\n",
            "Sentiment: Neutral\n",
            "--------------------------------------------------\n",
            "Tweet: AI art continues to inspire creativity and innovation. https://t.co/XNLYYXtI8P\n",
            "Sentiment: Positive\n",
            "--------------------------------------------------\n"
          ]
        }
      ]
    }
  ]
}